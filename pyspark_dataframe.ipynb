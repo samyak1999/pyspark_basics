{
 "cells": [
  {
   "cell_type": "markdown",
   "id": "e58e26fd-d2ae-4416-844e-3a82b9659885",
   "metadata": {},
   "source": [
    "## Advanatages of DataFrames Over RDDs\n",
    "- Optimized Execution\n",
    "  - Schema information enable query optimization and predicate pushdowns\n",
    "  - Faster and more efficient data processing\n",
    "- Ease of Use\n",
    "  - High-level,SQL-like interface for data interaction\n",
    "  - Simplified compared to complex RDD transformations\n",
    " - Integration with Ecosystem\n",
    "   - Seamless integration with Spark's ecosystem\n",
    "- Built-in Optimization\n",
    "  - Leveraging Spark's Catalyst optimizaer for advanced optimizations\n",
    "  - Predicate pushdown,constant folding,loop unrolling\n",
    "- Interoperability\n",
    "  - Easily convert to/from other data formats(e.gPandas Dataframes)\n"
   ]
  },
  {
   "cell_type": "code",
   "execution_count": 2,
   "id": "a2fcfc1e-07a7-4144-8442-fba9f2236eda",
   "metadata": {},
   "outputs": [],
   "source": [
    "import os\n",
    "os.environ[\"SPARK_HOME\"]=\"F:\\Spark_root\\Spark\"\n",
    "os.environ[\"PYSPARK_DRIVER_PYTHON\"]=\"jupyter\"\n",
    "os.environ[\"PYSPARK_DRIVER_PYTHON_OPTS\"]=\"lab\"\n",
    "os.environ[\"PYSPARK_PYTHON\"]='python'\n",
    "\n",
    "from pyspark.sql import SparkSession\n",
    "from pyspark.sql.functions import desc"
   ]
  },
  {
   "cell_type": "code",
   "execution_count": 3,
   "id": "9b45e584-5c56-4968-8e18-7e0a7e43216c",
   "metadata": {},
   "outputs": [],
   "source": [
    "spark= SparkSession.builder.appName(\"dataframe-demo\").getOrCreate()\n"
   ]
  },
  {
   "cell_type": "markdown",
   "id": "b8a68eaa-7c5c-49d3-ae97-049c5490feea",
   "metadata": {},
   "source": [
    "## Using RDDs"
   ]
  },
  {
   "cell_type": "code",
   "execution_count": 5,
   "id": "b9dc0970-6273-4969-9263-b77af9dfdd17",
   "metadata": {},
   "outputs": [],
   "source": [
    "df = spark.read.text(\"data.txt\")\n",
    "result_df = df.selectExpr(\"explode(split(value,' ')) as word\") \\\n",
    "            .groupBy(\"word\").count().orderBy(desc(\"count\"))"
   ]
  },
  {
   "cell_type": "code",
   "execution_count": 6,
   "id": "17a1d9b7-ebea-46d3-82ff-d26ea36d5a94",
   "metadata": {},
   "outputs": [
    {
     "data": {
      "text/plain": [
       "[Row(word='the', count=385),\n",
       " Row(word='to', count=295),\n",
       " Row(word='and', count=263),\n",
       " Row(word='', count=239),\n",
       " Row(word='I', count=172),\n",
       " Row(word='a', count=171),\n",
       " Row(word='of', count=165),\n",
       " Row(word='was', count=110),\n",
       " Row(word='my', count=107),\n",
       " Row(word='in', count=107)]"
      ]
     },
     "execution_count": 6,
     "metadata": {},
     "output_type": "execute_result"
    }
   ],
   "source": [
    "result_df.take(10)"
   ]
  },
  {
   "cell_type": "code",
   "execution_count": null,
   "id": "fee41291-81c5-4619-9f6a-57dddd00f6c2",
   "metadata": {},
   "outputs": [],
   "source": []
  }
 ],
 "metadata": {
  "kernelspec": {
   "display_name": "Python 3 (ipykernel)",
   "language": "python",
   "name": "python3"
  },
  "language_info": {
   "codemirror_mode": {
    "name": "ipython",
    "version": 3
   },
   "file_extension": ".py",
   "mimetype": "text/x-python",
   "name": "python",
   "nbconvert_exporter": "python",
   "pygments_lexer": "ipython3",
   "version": "3.9.6"
  }
 },
 "nbformat": 4,
 "nbformat_minor": 5
}
